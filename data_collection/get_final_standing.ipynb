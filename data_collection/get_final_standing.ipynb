{
 "cells": [
  {
   "cell_type": "code",
   "execution_count": 1,
   "id": "468cc5a0-80d5-4a1d-b988-10650c164932",
   "metadata": {},
   "outputs": [
    {
     "name": "stderr",
     "output_type": "stream",
     "text": [
      "/Users/anna/Documents/NPB-data-analysis/.venv/lib/python3.9/site-packages/urllib3/__init__.py:34: NotOpenSSLWarning: urllib3 v2 only supports OpenSSL 1.1.1+, currently the 'ssl' module is compiled with 'LibreSSL 2.8.3'. See: https://github.com/urllib3/urllib3/issues/3020\n",
      "  warnings.warn(\n"
     ]
    }
   ],
   "source": [
    "import pandas as pd\n",
    "from tqdm import tqdm\n",
    "\n",
    "from utls import get_json_from_url"
   ]
  },
  {
   "cell_type": "code",
   "execution_count": 3,
   "id": "579c9c00-99fe-43c8-9482-11120e51faae",
   "metadata": {},
   "outputs": [],
   "source": [
    "url = 'https://spaia.jp/baseball/npb/api/official_stats?Year=2023'\n",
    "json_data = get_json_from_url(url=url)\n",
    "cl_df = pd.DataFrame(json_data)"
   ]
  },
  {
   "cell_type": "code",
   "execution_count": 7,
   "id": "1a637de3-14a7-4d5f-aa86-eb8edef0236d",
   "metadata": {},
   "outputs": [
    {
     "data": {
      "text/plain": [
       "30      阪神\n",
       "31      広島\n",
       "32    DeNA\n",
       "33      巨人\n",
       "34    ヤクルト\n",
       "35      中日\n",
       "Name: ShortName_Team, dtype: object"
      ]
     },
     "execution_count": 7,
     "metadata": {},
     "output_type": "execute_result"
    }
   ],
   "source": [
    "cl_df.loc[cl_df['GameAssortment'] == '1']['ShortName_Team']"
   ]
  },
  {
   "cell_type": "code",
   "execution_count": 8,
   "id": "01284883-422f-45f4-87dd-a4d9e88ad8f2",
   "metadata": {},
   "outputs": [
    {
     "data": {
      "text/plain": [
       "24     オリックス\n",
       "25       ロッテ\n",
       "26    ソフトバンク\n",
       "27        楽天\n",
       "28        西武\n",
       "29      日本ハム\n",
       "Name: ShortName_Team, dtype: object"
      ]
     },
     "execution_count": 8,
     "metadata": {},
     "output_type": "execute_result"
    }
   ],
   "source": [
    "cl_df.loc[cl_df['GameAssortment'] == '2']['ShortName_Team']"
   ]
  }
 ],
 "metadata": {
  "kernelspec": {
   "display_name": "Python 3 (ipykernel)",
   "language": "python",
   "name": "python3"
  },
  "language_info": {
   "codemirror_mode": {
    "name": "ipython",
    "version": 3
   },
   "file_extension": ".py",
   "mimetype": "text/x-python",
   "name": "python",
   "nbconvert_exporter": "python",
   "pygments_lexer": "ipython3",
   "version": "3.9.6"
  }
 },
 "nbformat": 4,
 "nbformat_minor": 5
}
