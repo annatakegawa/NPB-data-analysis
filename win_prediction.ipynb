{
 "cells": [
  {
   "cell_type": "markdown",
   "metadata": {},
   "source": [
    "# NPB Win prediction\n",
    "\n",
    "## End Goal\n",
    "Input:\n",
    "* Starting lineup and player stats at the time of the game\n",
    "* Batter stats: AVG, OBP, SLG\n",
    "* Pitcher stats: ERA, WHIP, AVG\n",
    "\n",
    "Output:\n",
    "* Prediction of which team is going to win (if possible, include prediction confidence)\n",
    "\n",
    "## Data Requried for Model Training\n",
    "Use data from last season (2023), which would have the least difference to this year's game in terms of technicality, e.g. rules, player age\n",
    "SPAIA has starting lineup & their pre-game stats: https://spaia.jp/baseball/npb/api/starting_members_for_flash?gameId=2021020178\n",
    "* Players starting in bench have \"startBatNo\" set to 11\n",
    "\n",
    "Find Game ID and final score on this link: https://spaia.jp/baseball/npb/api/games_info_by_date?gameDate=20240505\n",
    "* Score: \"homeTeamTotalRuns\" vs \"visitorTeamTotalRuns\"\n",
    "* Home team: \"homeTeamName\", visitor team: \"visitorTeamName\"\n",
    "* Game ID: \"gameId\"\n",
    "\n",
    "=> Create a list of all game days"
   ]
  },
  {
   "cell_type": "markdown",
   "metadata": {},
   "source": [
    "#### Note: How to find API endpoints (on Chrome)\n",
    "1. Open developer tools/inspect website (default shortcut is F12)\n",
    "2. Choose Networks tab\n",
    "3. Filter to Fetch/XHR\n",
    "4. Load page we want to open, then check the url's that appear"
   ]
  },
  {
   "cell_type": "markdown",
   "metadata": {},
   "source": []
  }
 ],
 "metadata": {
  "language_info": {
   "name": "python"
  }
 },
 "nbformat": 4,
 "nbformat_minor": 2
}
